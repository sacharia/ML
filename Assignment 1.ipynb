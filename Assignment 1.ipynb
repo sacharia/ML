{
 "cells": [
  {
   "cell_type": "raw",
   "metadata": {},
   "source": [
    "Question 1: What is the purpose of Python's OOP?"
   ]
  },
  {
   "cell_type": "raw",
   "metadata": {},
   "source": [
    "Python’ OOP becomes a better choice over scripting when requirements become sufficiently complex and lengthy. Main purpose of Python’s OOP is to make the program modular and focus on reuse of code through inheritance. "
   ]
  },
  {
   "cell_type": "raw",
   "metadata": {},
   "source": [
    "Q2. Where does an inheritance search look for an attribute?"
   ]
  },
  {
   "cell_type": "raw",
   "metadata": {},
   "source": [
    "Q3. How do you distinguish between a class object and an instance object?"
   ]
  },
  {
   "cell_type": "code",
   "execution_count": 5,
   "metadata": {},
   "outputs": [],
   "source": [
    "# To create a class, use the keyword class:\n",
    "\n",
    "class Person:\n",
    "    pass\n",
    "\n",
    "# Creation of a instance object - 'Sam'\n",
    "\n",
    "Sam = Person()\n",
    "\n",
    "# So a class object is distinguished by use of keyword 'class'. \n",
    "# To create instance object or instances of a class, we call the class as shown in 'Sam'"
   ]
  },
  {
   "cell_type": "raw",
   "metadata": {},
   "source": [
    "Q 4. What makes the first argument in a class’s method function special?"
   ]
  },
  {
   "cell_type": "raw",
   "metadata": {},
   "source": [
    "The first argument in class's method function is 'self'.The self parameter is a reference to the current instance of the class. It binds the method arguments, attributes and method itself with the class instance. With this keyword, you can access the attributes and methods of the class in python. "
   ]
  },
  {
   "cell_type": "raw",
   "metadata": {},
   "source": [
    "Q 5. What is the purpose of the __init__ method?"
   ]
  },
  {
   "cell_type": "code",
   "execution_count": 11,
   "metadata": {},
   "outputs": [],
   "source": [
    "class computer():\n",
    "    def __init__(self,ram):\n",
    "        self.ram = ram\n",
    "\n",
    "Dell1 = computer(8)\n",
    "\n",
    "#The __init__() function is called automatically every time the class is being used to create a new object like 'Dell1'.\n",
    "#This method is called when an object ( instance) is created from a class like Dell1 = computer(8) and it allows the class to initialize the attributes(ram) of the class.\n",
    "\n"
   ]
  },
  {
   "cell_type": "raw",
   "metadata": {},
   "source": [
    "Q 6: What is the process for creating a class instance?"
   ]
  },
  {
   "cell_type": "code",
   "execution_count": 12,
   "metadata": {},
   "outputs": [],
   "source": [
    "# To create instances of a class, we call the class using class name and pass in whatever arguments its __init__ method accepts.\n",
    "# example shown below for creating a class instance 'Dell1' for computer class. \n",
    "\n",
    "class computer():\n",
    "    def __init__(self,ram):\n",
    "        self.ram = ram\n",
    "\n",
    "# create a class instance \n",
    "Dell1 = computer(8)"
   ]
  },
  {
   "cell_type": "raw",
   "metadata": {},
   "source": [
    "Q7. What is the process for creating a class?"
   ]
  },
  {
   "cell_type": "code",
   "execution_count": 13,
   "metadata": {},
   "outputs": [],
   "source": [
    "# The class statement creates a new class definition. The name of the class immediately follows the keyword class followed by a colon.\n",
    "# Eaxmple of creating a class 'Country'\n",
    "class Country:\n",
    "    def __init__(self, country_name):\n",
    "        self.country_name = country_name\n",
    "        \n",
    "    def country_details(self):\n",
    "        print(f\"Happiest Country in the world is {self.country_name}\")"
   ]
  },
  {
   "cell_type": "raw",
   "metadata": {},
   "source": [
    "Q8. How would you define the superclasses of a class?"
   ]
  },
  {
   "cell_type": "code",
   "execution_count": 14,
   "metadata": {},
   "outputs": [],
   "source": [
    "# superclasses of a class is defined using super()\n",
    "# syntax for the same is 'Super().__init__(self, argument)'\n",
    "# Following example shows the use of super()\n",
    "\n",
    "# SUPER Class \n",
    "class Country:\n",
    "    def __init__(self, country_name):\n",
    "        self.country_name = country_name\n",
    "        \n",
    "    def country_details(self):\n",
    "        print(f\"Happiest Country in the world is {self.country_name}\")\n",
    "\n",
    "# Derived or Child Class \n",
    "class HappiestCountry(Country):\n",
    "    def __init__(self, country_name, continent): \n",
    "        super().__init__(country_name) ####\n",
    "        self.continent = continent\n"
   ]
  },
  {
   "cell_type": "code",
   "execution_count": null,
   "metadata": {},
   "outputs": [],
   "source": []
  }
 ],
 "metadata": {
  "kernelspec": {
   "display_name": "Python 3",
   "language": "python",
   "name": "python3"
  },
  "language_info": {
   "codemirror_mode": {
    "name": "ipython",
    "version": 3
   },
   "file_extension": ".py",
   "mimetype": "text/x-python",
   "name": "python",
   "nbconvert_exporter": "python",
   "pygments_lexer": "ipython3",
   "version": "3.8.5"
  }
 },
 "nbformat": 4,
 "nbformat_minor": 4
}

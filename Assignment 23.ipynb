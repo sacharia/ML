{
 "cells": [
  {
   "cell_type": "markdown",
   "metadata": {},
   "source": [
    "For each question following pattern is followed:¶\n",
    "Question\n",
    "Solution & Explaination "
   ]
  },
  {
   "cell_type": "raw",
   "metadata": {},
   "source": [
    "1. What is the result of the code, and why?\n",
    ">>> def func(a, b=6, c=8):\n",
    "print(a, b, c)\n",
    ">>> func(1, 2)\n"
   ]
  },
  {
   "cell_type": "code",
   "execution_count": 9,
   "metadata": {},
   "outputs": [
    {
     "name": "stdout",
     "output_type": "stream",
     "text": [
      "1 2 8\n"
     ]
    }
   ],
   "source": [
    "def func(a, b=6, c=8):\n",
    "    print(a, b, c)\n",
    "\n",
    "func(1,2)\n",
    "\n",
    "# Result of the code is (1,2,8). At the time of calling the function, value of  a= 1 and b = 2 has been defined but value of c has not been defined.Hence, the func has taken the default value of 8."
   ]
  },
  {
   "cell_type": "raw",
   "metadata": {},
   "source": [
    "What is the result of this code, and why?\n",
    ">>> def func1(a, b, c=5):\n",
    "print(a, b, c)\n",
    ">>> func(1, c=3, b=2)\n"
   ]
  },
  {
   "cell_type": "code",
   "execution_count": 12,
   "metadata": {},
   "outputs": [
    {
     "name": "stdout",
     "output_type": "stream",
     "text": [
      "1 2 3\n"
     ]
    }
   ],
   "source": [
    "def func1(a, b, c=5):\n",
    "    print(a, b, c)\n",
    "    \n",
    "func1(1, c= 3, b=2)\n",
    "# the result of the code is (1,2,3). while calling the function we assigned specific value for c = 3 and b = 2. Hence it updated the new values for the calling function for both b & c. While printing the output it showed the result in predefined sequence i.e. a,b,c. "
   ]
  },
  {
   "cell_type": "raw",
   "metadata": {},
   "source": [
    "How about this code: what is its result, and why?\n",
    ">>> def func(a, *pargs):\n",
    "print(a, pargs)\n",
    ">>> func(1, 2, 3)\n"
   ]
  },
  {
   "cell_type": "code",
   "execution_count": 14,
   "metadata": {},
   "outputs": [
    {
     "name": "stdout",
     "output_type": "stream",
     "text": [
      "1 (2, 3)\n"
     ]
    }
   ],
   "source": [
    "def func(a, *pargs):\n",
    "    print(a, pargs)\n",
    "\n",
    "func(1, 2, 3)\n",
    "\n",
    "# the output of the function is 1,(2,3). When (1,2,3) is passed as the arguments to the func, the function assigned a = 1 and pargs = (2,3). The output type for *args (pargs in this case) is tuple hence the output is a tuple (2,3)"
   ]
  },
  {
   "cell_type": "raw",
   "metadata": {},
   "source": [
    "What does this code print, and why?\n",
    ">>> def func(a, **kargs):\n",
    "print(a, kargs)\n",
    ">>> func(a=1, c=3, b=2)\n"
   ]
  },
  {
   "cell_type": "code",
   "execution_count": 17,
   "metadata": {},
   "outputs": [
    {
     "name": "stdout",
     "output_type": "stream",
     "text": [
      "1 {'c': 3, 'b': 2}\n"
     ]
    }
   ],
   "source": [
    "def func(a, **kargs):\n",
    "    print(a, kargs)\n",
    "\n",
    "func(a=1, c=3, b=2)\n",
    "# the output of the function 1 {'c': 3, 'b': 2}. When (a =1,c=3, b=2) is passed as the arguments to the func, the function assigned a = 1 and kargs as (c=3, b=2). The output type for *kargs is a dictionary hence the output is a dictionary {'c': 3, 'b': 2}"
   ]
  },
  {
   "cell_type": "raw",
   "metadata": {},
   "source": [
    "What gets printed by this, and explain?\n",
    ">>> def func(a, b, c=8, d=5): print(a, b, c, d)\n",
    ">>> func(1, *(5, 6))\n"
   ]
  },
  {
   "cell_type": "code",
   "execution_count": 25,
   "metadata": {},
   "outputs": [
    {
     "name": "stdout",
     "output_type": "stream",
     "text": [
      "1 5 6 5\n"
     ]
    }
   ],
   "source": [
    "def func(a, b, c=8, d=5):\n",
    "    print(a, b, c, d)\n",
    "    \n",
    "func(1, *(5,6))\n",
    "# the output is (1,5,6,5). In the func three arugments are provided a =1 and *(5,6) unpackes the tuple to b = 5 & c=6. As d is not defined in the argument hence it takes the default value of 5 as defined in the function. "
   ]
  },
  {
   "cell_type": "raw",
   "metadata": {},
   "source": [
    "what is the result of this, and explain?\n",
    ">>> def func(a, b, c): a = 2; b[0] = 'x'; c['a'] = 'y'\n",
    ">>> l=1; m=[1]; n={'a':0}\n",
    ">>> func(l, m, n)\n"
   ]
  },
  {
   "cell_type": "code",
   "execution_count": 36,
   "metadata": {},
   "outputs": [
    {
     "data": {
      "text/plain": [
       "(1, ['x'], {'a': 'y'})"
      ]
     },
     "execution_count": 36,
     "metadata": {},
     "output_type": "execute_result"
    }
   ],
   "source": [
    "def func(a, b, c): \n",
    "    a = 2; b[0] = 'x'; c['a'] = 'y'\n",
    "\n",
    "l=1; m=[1]; n={'a':0}\n",
    "func(l,m,n)\n",
    "\n",
    "l,m,n"
   ]
  },
  {
   "cell_type": "raw",
   "metadata": {},
   "source": [
    "explaination: \n",
    "1. 1st argument a:\n",
    "func has assigned default value of 2. \n",
    "however will calling the function a value of 1 has been passed for the argument a in the form of l = 1\n",
    "hence the output is 1. \n",
    "\n",
    "2. 2nd argument b: \n",
    "func replaces the 1st element of a input iterable to 'x. Hence, when [1] as argument b, hence its converts b[0] i.e. 1 into 'x'. \n",
    "\n",
    "3. 3rd Argument c: \n",
    "func assigns a value 'y' for the key 'a' in dictionary c. when {a,0} is given as the input argument for c, the function changes the value of key 'a' from 0 to 'y'. \n"
   ]
  }
 ],
 "metadata": {
  "kernelspec": {
   "display_name": "Python 3",
   "language": "python",
   "name": "python3"
  },
  "language_info": {
   "codemirror_mode": {
    "name": "ipython",
    "version": 3
   },
   "file_extension": ".py",
   "mimetype": "text/x-python",
   "name": "python",
   "nbconvert_exporter": "python",
   "pygments_lexer": "ipython3",
   "version": "3.8.5"
  }
 },
 "nbformat": 4,
 "nbformat_minor": 4
}
